{
 "cells": [
  {
   "cell_type": "markdown",
   "metadata": {},
   "source": [
    "Given an array of integers representing an elevation map where the width of each bar is 1, returning how much rainwater can be trapped. Calculate the total units of water that can be stored?"
   ]
  },
  {
   "cell_type": "markdown",
   "metadata": {},
   "source": [
    "## Constraints\n",
    "+ Do the left and right side of the graph count as wall? No\n",
    "+ Can there be negative integers? No"
   ]
  },
  {
   "cell_type": "code",
   "execution_count": 18,
   "metadata": {},
   "outputs": [],
   "source": [
    "arr = [0,1,0,2,1,0,3,1,0,1,2] # ans =8 units"
   ]
  },
  {
   "cell_type": "markdown",
   "metadata": {},
   "source": [
    "## Logic\n",
    "+ Find units above eact block\n",
    "+ Sum up all the units to get total units\n",
    "\n",
    "### How to get units above each block\n",
    "+ min(max(leftside),max(rightside))-Currentcolumn height"
   ]
  },
  {
   "cell_type": "code",
   "execution_count": 58,
   "metadata": {},
   "outputs": [],
   "source": [
    "def calc_water_trapping(arr):\n",
    "    tot_units=0\n",
    "    left_max=0\n",
    "    right_max=0\n",
    "    for i in range(0,len(arr)):\n",
    "        left_max=max(arr[:i] or [0])\n",
    "        for j in range(len(arr[:i]),len(arr)):\n",
    "            if(arr[j]>arr[i]):\n",
    "                right_max=arr[j]\n",
    "                break\n",
    "        tot_units = tot_units+ max(0,(min(left_max,right_max)-arr[i]))\n",
    "        print(i,\":\",arr[i],\":\",left_max,\":\",right_max,\":\",max(0,(min(left_max,right_max)-arr[i])))\n",
    "    return tot_units\n",
    "    "
   ]
  },
  {
   "cell_type": "code",
   "execution_count": 59,
   "metadata": {},
   "outputs": [
    {
     "name": "stdout",
     "output_type": "stream",
     "text": [
      "i : arr[i] : j : arr[j] : left_max : right_max : water_unit\n",
      "0 : 3 : 0 : 0 : 0\n",
      "1 : 2 : 3 : 3 : 1\n",
      "2 : 0 : 3 : 3 : 3\n",
      "3 : 3 : 3 : 3 : 0\n",
      "4 : 1 : 3 : 2 : 1\n",
      "5 : 0 : 3 : 2 : 2\n",
      "6 : 2 : 3 : 2 : 0\n"
     ]
    },
    {
     "data": {
      "text/plain": [
       "7"
      ]
     },
     "execution_count": 59,
     "metadata": {},
     "output_type": "execute_result"
    }
   ],
   "source": [
    "arr = [0,1,0,2,1,0,3,1,0,1,2]\n",
    "arr = [3,2,0,3,1,0,2]\n",
    "print(\"i\",\":\",\"arr[i]\",\":\",\"j\",\":\",\"arr[j]\",\":\",\"left_max\",\":\",\"right_max\",\":\",\"water_unit\")\n",
    "calc_water_trapping(arr)"
   ]
  },
  {
   "cell_type": "code",
   "execution_count": 5,
   "metadata": {},
   "outputs": [],
   "source": [
    "def calc_water_trapping_1(arr):\n",
    "    tot_units=0\n",
    "    left_max=0\n",
    "    right_max=0\n",
    "    for i in range(0,len(arr)):\n",
    "        new_arr=arr[:i]\n",
    "        left_max=max(arr[:i] or [0])\n",
    "        \n",
    "        curr_max =max(arr[len(new_arr):len(arr)])\n",
    "        \n",
    "        if(curr_max>new_arr[i]):\n",
    "            right_max=curr_max\n",
    "            break\n",
    "            \n",
    "        tot_units = tot_units+ max(0,(min(left_max,right_max)-arr[i]))\n",
    "        print(i,\":\",arr[i],\":\",left_max,\":\",right_max,\":\",max(0,(min(left_max,right_max)-arr[i])))\n",
    "    return tot_units"
   ]
  },
  {
   "cell_type": "code",
   "execution_count": 6,
   "metadata": {},
   "outputs": [
    {
     "name": "stdout",
     "output_type": "stream",
     "text": [
      "i : arr[i] : j : arr[j] : left_max : right_max : water_unit\n"
     ]
    },
    {
     "ename": "IndexError",
     "evalue": "list index out of range",
     "output_type": "error",
     "traceback": [
      "\u001b[1;31m---------------------------------------------------------------------------\u001b[0m",
      "\u001b[1;31mIndexError\u001b[0m                                Traceback (most recent call last)",
      "\u001b[1;32m<ipython-input-6-ecc2000202e7>\u001b[0m in \u001b[0;36m<module>\u001b[1;34m\u001b[0m\n\u001b[0;32m      2\u001b[0m \u001b[0marr\u001b[0m \u001b[1;33m=\u001b[0m \u001b[1;33m[\u001b[0m\u001b[1;36m3\u001b[0m\u001b[1;33m,\u001b[0m\u001b[1;36m2\u001b[0m\u001b[1;33m,\u001b[0m\u001b[1;36m0\u001b[0m\u001b[1;33m,\u001b[0m\u001b[1;36m3\u001b[0m\u001b[1;33m,\u001b[0m\u001b[1;36m1\u001b[0m\u001b[1;33m,\u001b[0m\u001b[1;36m0\u001b[0m\u001b[1;33m,\u001b[0m\u001b[1;36m2\u001b[0m\u001b[1;33m]\u001b[0m\u001b[1;33m\u001b[0m\u001b[1;33m\u001b[0m\u001b[0m\n\u001b[0;32m      3\u001b[0m \u001b[0mprint\u001b[0m\u001b[1;33m(\u001b[0m\u001b[1;34m\"i\"\u001b[0m\u001b[1;33m,\u001b[0m\u001b[1;34m\":\"\u001b[0m\u001b[1;33m,\u001b[0m\u001b[1;34m\"arr[i]\"\u001b[0m\u001b[1;33m,\u001b[0m\u001b[1;34m\":\"\u001b[0m\u001b[1;33m,\u001b[0m\u001b[1;34m\"j\"\u001b[0m\u001b[1;33m,\u001b[0m\u001b[1;34m\":\"\u001b[0m\u001b[1;33m,\u001b[0m\u001b[1;34m\"arr[j]\"\u001b[0m\u001b[1;33m,\u001b[0m\u001b[1;34m\":\"\u001b[0m\u001b[1;33m,\u001b[0m\u001b[1;34m\"left_max\"\u001b[0m\u001b[1;33m,\u001b[0m\u001b[1;34m\":\"\u001b[0m\u001b[1;33m,\u001b[0m\u001b[1;34m\"right_max\"\u001b[0m\u001b[1;33m,\u001b[0m\u001b[1;34m\":\"\u001b[0m\u001b[1;33m,\u001b[0m\u001b[1;34m\"water_unit\"\u001b[0m\u001b[1;33m)\u001b[0m\u001b[1;33m\u001b[0m\u001b[1;33m\u001b[0m\u001b[0m\n\u001b[1;32m----> 4\u001b[1;33m \u001b[0mcalc_water_trapping_1\u001b[0m\u001b[1;33m(\u001b[0m\u001b[0marr\u001b[0m\u001b[1;33m)\u001b[0m\u001b[1;33m\u001b[0m\u001b[1;33m\u001b[0m\u001b[0m\n\u001b[0m",
      "\u001b[1;32m<ipython-input-5-f125edd0fc34>\u001b[0m in \u001b[0;36mcalc_water_trapping_1\u001b[1;34m(arr)\u001b[0m\n\u001b[0;32m      9\u001b[0m         \u001b[0mcurr_max\u001b[0m \u001b[1;33m=\u001b[0m\u001b[0mmax\u001b[0m\u001b[1;33m(\u001b[0m\u001b[0marr\u001b[0m\u001b[1;33m[\u001b[0m\u001b[0mlen\u001b[0m\u001b[1;33m(\u001b[0m\u001b[0mnew_arr\u001b[0m\u001b[1;33m)\u001b[0m\u001b[1;33m:\u001b[0m\u001b[0mlen\u001b[0m\u001b[1;33m(\u001b[0m\u001b[0marr\u001b[0m\u001b[1;33m)\u001b[0m\u001b[1;33m]\u001b[0m\u001b[1;33m)\u001b[0m\u001b[1;33m\u001b[0m\u001b[1;33m\u001b[0m\u001b[0m\n\u001b[0;32m     10\u001b[0m \u001b[1;33m\u001b[0m\u001b[0m\n\u001b[1;32m---> 11\u001b[1;33m         \u001b[1;32mif\u001b[0m\u001b[1;33m(\u001b[0m\u001b[0mcurr_max\u001b[0m\u001b[1;33m>\u001b[0m\u001b[0mnew_arr\u001b[0m\u001b[1;33m[\u001b[0m\u001b[0mi\u001b[0m\u001b[1;33m]\u001b[0m\u001b[1;33m)\u001b[0m\u001b[1;33m:\u001b[0m\u001b[1;33m\u001b[0m\u001b[1;33m\u001b[0m\u001b[0m\n\u001b[0m\u001b[0;32m     12\u001b[0m             \u001b[0mright_max\u001b[0m\u001b[1;33m=\u001b[0m\u001b[0mcurr_max\u001b[0m\u001b[1;33m\u001b[0m\u001b[1;33m\u001b[0m\u001b[0m\n\u001b[0;32m     13\u001b[0m             \u001b[1;32mbreak\u001b[0m\u001b[1;33m\u001b[0m\u001b[1;33m\u001b[0m\u001b[0m\n",
      "\u001b[1;31mIndexError\u001b[0m: list index out of range"
     ]
    }
   ],
   "source": [
    "arr = [0,1,0,2,1,0,3,1,0,1,2]\n",
    "arr = [3,2,0,3,1,0,2]\n",
    "print(\"i\",\":\",\"arr[i]\",\":\",\"j\",\":\",\"arr[j]\",\":\",\"left_max\",\":\",\"right_max\",\":\",\"water_unit\")\n",
    "calc_water_trapping_1(arr)"
   ]
  },
  {
   "cell_type": "code",
   "execution_count": null,
   "metadata": {},
   "outputs": [],
   "source": []
  }
 ],
 "metadata": {
  "kernelspec": {
   "display_name": "Python 3",
   "language": "python",
   "name": "python3"
  },
  "language_info": {
   "codemirror_mode": {
    "name": "ipython",
    "version": 3
   },
   "file_extension": ".py",
   "mimetype": "text/x-python",
   "name": "python",
   "nbconvert_exporter": "python",
   "pygments_lexer": "ipython3",
   "version": "3.7.1"
  }
 },
 "nbformat": 4,
 "nbformat_minor": 4
}
