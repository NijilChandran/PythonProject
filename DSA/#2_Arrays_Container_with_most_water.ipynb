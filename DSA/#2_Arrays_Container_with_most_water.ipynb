{
 "cells": [
  {
   "cell_type": "markdown",
   "metadata": {},
   "source": [
    "You are given an array of positive integers where each integer represents the height of a vertical line on a chart.\n",
    "Find two lines which together with the x-axis forms a container that would hold the greatest amount of water. Return the area of the water it would hold"
   ]
  },
  {
   "cell_type": "code",
   "execution_count": 1,
   "metadata": {},
   "outputs": [],
   "source": [
    "arr = [1,8,6,2,9,4] # ans: 36"
   ]
  },
  {
   "cell_type": "markdown",
   "metadata": {},
   "source": [
    "## Constraints\n",
    "\n",
    "+ Can the sides be used as a side of a container? No \n",
    "+ Does lines inside the container affect the area? No"
   ]
  },
  {
   "cell_type": "markdown",
   "metadata": {},
   "source": [
    "## Brute Force"
   ]
  },
  {
   "cell_type": "code",
   "execution_count": 86,
   "metadata": {},
   "outputs": [],
   "source": [
    "def largest_container_0(arr):\n",
    "    max_area=0\n",
    "    res=[]\n",
    "    loop_cnt =0\n",
    "    for i in range(0,len(arr)):\n",
    "        ival = arr[i]\n",
    "        loop_cnt +=1\n",
    "        for j in range(1,len(arr)):\n",
    "            loop_cnt +=1\n",
    "            jval=arr[j]\n",
    "            current_area = min(ival,jval)*abs(j-i)\n",
    "            if(current_area > max_area):\n",
    "                max_area=current_area  \n",
    "                res=[i,j]\n",
    "    print(\"max area index:\",res)\n",
    "    print(\"loop_cnt: \",loop_cnt)\n",
    "    return max_area"
   ]
  },
  {
   "cell_type": "code",
   "execution_count": 91,
   "metadata": {},
   "outputs": [
    {
     "name": "stdout",
     "output_type": "stream",
     "text": [
      "max area index: [1, 4]\n",
      "loop_cnt:  36\n"
     ]
    },
    {
     "data": {
      "text/plain": [
       "24"
      ]
     },
     "execution_count": 91,
     "metadata": {},
     "output_type": "execute_result"
    }
   ],
   "source": [
    "arr = [7,1,2,3,9] \n",
    "largest_container_0(arr)"
   ]
  },
  {
   "cell_type": "markdown",
   "metadata": {},
   "source": [
    "## Two Shifting pointers technique\n",
    "+ Initiate pointers at two extreme ends of array\n",
    "+ Move the smallest of the two towards center of the array\n",
    "+ Why? Minimum of the array elements have influence on area, the larger of the two has no impact"
   ]
  },
  {
   "cell_type": "code",
   "execution_count": 88,
   "metadata": {},
   "outputs": [],
   "source": [
    "def largest_container_3(arr):\n",
    "    max_area=0\n",
    "    res=[]\n",
    "    loop_cnt =0\n",
    "    i = 0\n",
    "    j = len(arr)-1\n",
    "    \n",
    "    while(i!=j):\n",
    "        ival = arr[i]\n",
    "        jval = arr[j]\n",
    "        loop_cnt +=1\n",
    "        \n",
    "        current_area = min(ival,jval)*abs(j-i)\n",
    "        # minimum of the array elements have influence on area, the larger of the two has no impact\n",
    "        # Move the smallest of the two towards center of the array. \n",
    "        if ival<jval: \n",
    "            i += 1     \n",
    "        else:\n",
    "            j -= 1\n",
    "        \n",
    "        if(current_area > max_area):\n",
    "            max_area=current_area \n",
    "                \n",
    "    print(\"max area index:\",res)\n",
    "    print(\"loop_cnt: \",loop_cnt)\n",
    "    return max_area"
   ]
  },
  {
   "cell_type": "code",
   "execution_count": 90,
   "metadata": {},
   "outputs": [
    {
     "name": "stdout",
     "output_type": "stream",
     "text": [
      "max area index: []\n",
      "loop_cnt:  4\n"
     ]
    },
    {
     "data": {
      "text/plain": [
       "28"
      ]
     },
     "execution_count": 90,
     "metadata": {},
     "output_type": "execute_result"
    }
   ],
   "source": [
    "arr = [7,1,2,3,9] # ans: \n",
    "#arr = [4,8,1,2,3,9]\n",
    "largest_container_3(arr)"
   ]
  },
  {
   "cell_type": "code",
   "execution_count": null,
   "metadata": {},
   "outputs": [],
   "source": []
  }
 ],
 "metadata": {
  "kernelspec": {
   "display_name": "Python 3",
   "language": "python",
   "name": "python3"
  },
  "language_info": {
   "codemirror_mode": {
    "name": "ipython",
    "version": 3
   },
   "file_extension": ".py",
   "mimetype": "text/x-python",
   "name": "python",
   "nbconvert_exporter": "python",
   "pygments_lexer": "ipython3",
   "version": "3.7.1"
  }
 },
 "nbformat": 4,
 "nbformat_minor": 4
}
