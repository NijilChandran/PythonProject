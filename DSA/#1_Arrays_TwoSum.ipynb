{
 "cells": [
  {
   "cell_type": "markdown",
   "metadata": {},
   "source": [
    "Given an Array of integers, return the indices of the two numbers that add up to a given target\n",
    "array [1,3,7,9,6] ,target =11, answer 3,4"
   ]
  },
  {
   "cell_type": "code",
   "execution_count": 98,
   "metadata": {},
   "outputs": [],
   "source": [
    "a=[1,3,7,9,2] \n",
    "tgt= 11"
   ]
  },
  {
   "cell_type": "code",
   "execution_count": 99,
   "metadata": {},
   "outputs": [],
   "source": [
    "def sum_of_two_nums_0(a,tgt):\n",
    "    res=[]\n",
    "    loop_cnt=0\n",
    "    for val in a:\n",
    "        loop_cnt +=1\n",
    "        for i,el in enumerate(a):\n",
    "            loop_cnt +=1\n",
    "        #print(i,\" \",el,\" \",val)\n",
    "            if((tgt-val)==el):\n",
    "                res.append(i)\n",
    "    print(\"loop_cnt :\",loop_cnt)\n",
    "    return res"
   ]
  },
  {
   "cell_type": "code",
   "execution_count": 96,
   "metadata": {},
   "outputs": [
    {
     "name": "stdout",
     "output_type": "stream",
     "text": [
      "loop_cnt : 30\n"
     ]
    },
    {
     "data": {
      "text/plain": [
       "[4, 3]"
      ]
     },
     "execution_count": 96,
     "metadata": {},
     "output_type": "execute_result"
    }
   ],
   "source": [
    "sum_of_two_nums_0(a,tgt)"
   ]
  },
  {
   "cell_type": "code",
   "execution_count": 100,
   "metadata": {},
   "outputs": [],
   "source": [
    "def sum_of_two_nums_1(a,tgt):\n",
    "    res=[]\n",
    "    loop_cnt=0\n",
    "    for i,val in enumerate(a):\n",
    "        loop_cnt +=1\n",
    "        for j,el in enumerate(a):\n",
    "            loop_cnt +=1\n",
    "        #print(i,\" \",el,\" \",val)\n",
    "            if((tgt-val)==el):\n",
    "                res=[j,i]\n",
    "                print(\"loop_cnt in:\",loop_cnt)\n",
    "                return res\n",
    "    print(\"loop_cnt out:\",loop_cnt)\n",
    "    return None"
   ]
  },
  {
   "cell_type": "code",
   "execution_count": 101,
   "metadata": {},
   "outputs": [
    {
     "name": "stdout",
     "output_type": "stream",
     "text": [
      "loop_cnt in: 24\n"
     ]
    },
    {
     "data": {
      "text/plain": [
       "[4, 3]"
      ]
     },
     "execution_count": 101,
     "metadata": {},
     "output_type": "execute_result"
    }
   ],
   "source": [
    "sum_of_two_nums_1(a,tgt)"
   ]
  },
  {
   "cell_type": "code",
   "execution_count": 106,
   "metadata": {},
   "outputs": [],
   "source": [
    "def sum_of_two_nums_2(a,tgt):\n",
    "    res=[]\n",
    "    loop_cnt=0\n",
    "    for p1 in range(0,len(a)):\n",
    "        loop_cnt +=1\n",
    "        for p2 in range(1,len(a)):\n",
    "            loop_cnt +=1\n",
    "            if((a[p1])+a[p2]==tgt):\n",
    "                res=[p1,p2]\n",
    "                print(\"loop_cnt in:\",loop_cnt)\n",
    "                return res\n",
    "    print(\"loop_cnt out:\",loop_cnt)\n",
    "    print(\"No valid solutions.\")\n",
    "    return None"
   ]
  },
  {
   "cell_type": "code",
   "execution_count": 110,
   "metadata": {},
   "outputs": [
    {
     "name": "stdout",
     "output_type": "stream",
     "text": [
      "loop_cnt in: 3\n"
     ]
    },
    {
     "data": {
      "text/plain": [
       "[0, 2]"
      ]
     },
     "execution_count": 110,
     "metadata": {},
     "output_type": "execute_result"
    }
   ],
   "source": [
    "a=[3,5,8]\n",
    "sum_of_two_nums_2(a,tgt)"
   ]
  },
  {
   "cell_type": "code",
   "execution_count": 2,
   "metadata": {},
   "outputs": [],
   "source": [
    "# Optimized. \n",
    "# Remove one of the for loops\n",
    "# Use dictionary to retain\n",
    "def sum_of_two_nums_3(a,tgt):\n",
    "    res=[]\n",
    "    loop_cnt=0\n",
    "    t_map={}\n",
    "    for i in range(0,len(a)):\n",
    "        loop_cnt +=1\n",
    "        t_map[tgt-a[i]]=i # set dictionary with key as difference from target, values as current index\n",
    "        #print(a[p1],\": \",t_map.keys())     \n",
    "        if(a[i] in t_map.keys()): # if current value present in dict keys\n",
    "            #print(\"inside\",t_map.keys())    \n",
    "            res=[t_map[a[i]],i] \n",
    "            print(\"loop count:\",loop_cnt) \n",
    "            return res\n",
    "    print(\"No valid results. Loop count:\",loop_cnt)\n",
    "    return res"
   ]
  },
  {
   "cell_type": "code",
   "execution_count": 3,
   "metadata": {},
   "outputs": [
    {
     "name": "stdout",
     "output_type": "stream",
     "text": [
      "loop count: 2\n"
     ]
    },
    {
     "data": {
      "text/plain": [
       "[0, 1]"
      ]
     },
     "execution_count": 3,
     "metadata": {},
     "output_type": "execute_result"
    }
   ],
   "source": [
    "a=[1,10,7] \n",
    "tgt= 11\n",
    "sum_of_two_nums_3(a,tgt)"
   ]
  },
  {
   "cell_type": "markdown",
   "metadata": {},
   "source": [
    "# Approach"
   ]
  },
  {
   "cell_type": "markdown",
   "metadata": {},
   "source": [
    "\n",
    "## 1) Verify the Constraints\n",
    " + Are all the numbers positive or can there be negatives?\n",
    " + Are there duplicate numbers in the array?\n",
    " + Will there be a solution be available? What do we return when there are no solution\n",
    " + Can there be multiple pairs that add up to the target?"
   ]
  },
  {
   "cell_type": "markdown",
   "metadata": {},
   "source": [
    "## 2) Write out some Test cases\n"
   ]
  },
  {
   "cell_type": "markdown",
   "metadata": {},
   "source": [
    "## 3) Figure out a solution without code"
   ]
  },
  {
   "cell_type": "markdown",
   "metadata": {},
   "source": [
    "## 4) Write solution in code"
   ]
  },
  {
   "cell_type": "markdown",
   "metadata": {},
   "source": [
    "## 5) Double check for errors\n"
   ]
  },
  {
   "cell_type": "markdown",
   "metadata": {},
   "source": [
    "## 6) Test code with test cases"
   ]
  },
  {
   "cell_type": "markdown",
   "metadata": {},
   "source": [
    "## 7) Time complexity and Space complexity"
   ]
  },
  {
   "cell_type": "markdown",
   "metadata": {},
   "source": [
    "## 8) Can we optimize the solution"
   ]
  },
  {
   "cell_type": "code",
   "execution_count": null,
   "metadata": {},
   "outputs": [],
   "source": []
  }
 ],
 "metadata": {
  "kernelspec": {
   "display_name": "Python 3",
   "language": "python",
   "name": "python3"
  },
  "language_info": {
   "codemirror_mode": {
    "name": "ipython",
    "version": 3
   },
   "file_extension": ".py",
   "mimetype": "text/x-python",
   "name": "python",
   "nbconvert_exporter": "python",
   "pygments_lexer": "ipython3",
   "version": "3.7.1"
  }
 },
 "nbformat": 4,
 "nbformat_minor": 4
}
